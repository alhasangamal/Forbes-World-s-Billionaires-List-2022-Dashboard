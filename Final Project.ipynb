{
 "cells": [
  {
   "cell_type": "markdown",
   "source": [
    "# Forbes World's Billionaires List 2022 Dashboard\n",
    "**Authors:**\n",
    "- Alhasan Gamal\n",
    "- Omar Atef\n",
    "\n",
    "**Date: 22 - 04 - 2022**\n",
    "\n",
    "**In this Script, We will develop a python program that is able to show Forbes World's Billionaires List 2022**\n",
    "\n",
    "**`AI & MachineLearning intake-2 ITI`**"
   ],
   "metadata": {
    "collapsed": false,
    "pycharm": {
     "name": "#%% md\n"
    }
   }
  },
  {
   "cell_type": "code",
   "execution_count": 1,
   "outputs": [],
   "source": [
    "# Import Libraries\n",
    "import plotly.express as px\n",
    "import pandas as pd\n",
    "from dash import Dash, dcc, html\n",
    "from dash.dependencies import Input, Output\n",
    "import dash_bootstrap_components as dbc"
   ],
   "metadata": {
    "collapsed": false,
    "pycharm": {
     "name": "#%%\n"
    }
   }
  },
  {
   "cell_type": "code",
   "execution_count": 2,
   "outputs": [],
   "source": [
    "# Creat Dash object\n",
    "app = Dash(external_stylesheets=[dbc.themes.MINTY, dbc.icons.FONT_AWESOME])\n",
    "app.title = \"Home\""
   ],
   "metadata": {
    "collapsed": false,
    "pycharm": {
     "name": "#%%\n"
    }
   }
  },
  {
   "cell_type": "code",
   "execution_count": 3,
   "outputs": [],
   "source": [
    "# import datas and show Data\n",
    "df = pd.read_csv('forbes.csv')\n",
    "gm = px.data.gapminder()"
   ],
   "metadata": {
    "collapsed": false,
    "pycharm": {
     "name": "#%%\n"
    }
   }
  },
  {
   "cell_type": "code",
   "execution_count": 4,
   "outputs": [],
   "source": [
    "# show top 3 Billionaires and net worth\n",
    "names        = list(df['personName'][:3])\n",
    "net_wort_top = list(df['finalWorth'][:3]/1000)"
   ],
   "metadata": {
    "collapsed": false,
    "pycharm": {
     "name": "#%%\n"
    }
   }
  },
  {
   "cell_type": "code",
   "execution_count": 5,
   "outputs": [],
   "source": [
    "# Creat cards of top 3 Billionaires\n",
    "card1 = [\n",
    "    dbc.CardImg(src=\"static/images/elon.jpg\",top=True),\n",
    "    dbc.CardBody(\n",
    "        [\n",
    "            html.H4(names[0], className=\"card-title\"),\n",
    "            html.P(\n",
    "                str(net_wort_top[0]) + \" Billions\",className=\"card-text\"\n",
    "            )\n",
    "        ]\n",
    "    )\n",
    "]\n",
    "\n",
    "card2 = [\n",
    "    dbc.CardImg(src=\"static/images/jeff.jpg\",top=True),\n",
    "    dbc.CardBody(\n",
    "        [\n",
    "            html.H4(names[1], className=\"card-title\"),\n",
    "            html.P(\n",
    "                str(net_wort_top[1]) + \" Billions\",className=\"card-text\"\n",
    "            )\n",
    "        ]\n",
    "    )\n",
    "]\n",
    "\n",
    "card3 = [\n",
    "    dbc.CardImg(src=\"static/images/bernard.jpg\",top=True),\n",
    "    dbc.CardBody(\n",
    "        [\n",
    "            html.H4(names[2][:15], className=\"card-title\"),\n",
    "            html.P(\n",
    "                str(net_wort_top[2]) + \" Billions\",className=\"card-text\"\n",
    "            )\n",
    "        ]\n",
    "    )\n",
    "]"
   ],
   "metadata": {
    "collapsed": false,
    "pycharm": {
     "name": "#%%\n"
    }
   }
  },
  {
   "cell_type": "code",
   "execution_count": 6,
   "outputs": [],
   "source": [
    "# creat birthYear column and count number of Billionaires were born in each year\n",
    "df2 = df.copy()\n",
    "df2[\"birthYear\"] = [str(x).split('-')[0] for x in list(df[\"birthDate\"])]\n",
    "birthyrs = df2[\"birthYear\"].value_counts()[1:]"
   ],
   "metadata": {
    "collapsed": false,
    "pycharm": {
     "name": "#%%\n"
    }
   }
  },
  {
   "cell_type": "code",
   "execution_count": 7,
   "outputs": [],
   "source": [
    "# creat country DataFrame with iso_alpha and number of Billionaires in each country\n",
    "my_df = gm[['country','iso_alpha']].drop_duplicates()\n",
    "my_dict = my_df.set_index('country')['iso_alpha'].to_dict()\n",
    "df2['iso_alpha'] = df['country'].map(my_dict)\n",
    "map_df = df2[['country','iso_alpha']]\n",
    "map_df.columns.tolist()\n",
    "iso_df = pd.DataFrame(map_df.groupby(map_df.columns.tolist(), as_index=False).size())\n",
    "iso_df.rename(columns={'size':'individuals'}, inplace=True)"
   ],
   "metadata": {
    "collapsed": false,
    "pycharm": {
     "name": "#%%\n"
    }
   }
  },
  {
   "cell_type": "code",
   "execution_count": 8,
   "outputs": [],
   "source": [
    "# Creat DropDown to switch type of chart for number of Billionaires in each country\n",
    "dropdown = html.Div(\n",
    "    [\n",
    "        dcc.Dropdown(\n",
    "            id=\"dropMenu\",\n",
    "            options=[\"Map\", \"BarChart\", \"Scatter\"],\n",
    "            value=\"Map\",\n",
    "            clearable=False\n",
    "        )\n",
    "    ],style={\"width\":\"60%\",\"padding-left\":\"33%\"}\n",
    ")"
   ],
   "metadata": {
    "collapsed": false,
    "pycharm": {
     "name": "#%%\n"
    }
   }
  },
  {
   "cell_type": "code",
   "execution_count": 9,
   "outputs": [],
   "source": [
    "# Creat country_list\n",
    "country_list = [{\"label\":str(c), \"value\":str(c)} for c in df2[\"country\"].unique()]\n",
    "del country_list[19]"
   ],
   "metadata": {
    "collapsed": false,
    "pycharm": {
     "name": "#%%\n"
    }
   }
  },
  {
   "cell_type": "code",
   "execution_count": 10,
   "outputs": [],
   "source": [
    "# Creat DropDown to switch country for age histogram\n",
    "dropdown2 = html.Div(\n",
    "    [\n",
    "        dcc.Dropdown(\n",
    "            id=\"dropMenu2\",\n",
    "            options= country_list,\n",
    "            value=\"\",\n",
    "        )\n",
    "    ], style={\"width\":\"60%\", \"padding-left\":\"33%\"}\n",
    ")"
   ],
   "metadata": {
    "collapsed": false,
    "pycharm": {
     "name": "#%%\n"
    }
   }
  },
  {
   "cell_type": "code",
   "execution_count": 11,
   "outputs": [],
   "source": [
    "# Creat category DataFrame\n",
    "df_cat = pd.DataFrame(df.groupby('category', as_index=False)['finalWorth'].sum())\n",
    "df_bnum = pd.DataFrame(df.groupby('category', as_index=False)['personName'].count())\n",
    "df_cat['finalWorth'] = df_cat['finalWorth']/1000\n",
    "df_cat['N_Billionaires'] = df_bnum['personName']"
   ],
   "metadata": {
    "collapsed": false,
    "pycharm": {
     "name": "#%%\n"
    }
   }
  },
  {
   "cell_type": "code",
   "execution_count": 12,
   "outputs": [],
   "source": [
    "# Creat DropDown yo switch male or female for selfMade or not\n",
    "dropdown3 = html.Div([\n",
    "    dcc.Dropdown(\n",
    "        id=\"dropMenu3\",\n",
    "        options=[{\"label\":\"Male\", \"value\":\"M\"}, {\"label\":\"Female\", \"value\":\"F\"}],\n",
    "        value=None,\n",
    "        multi=True\n",
    "    )\n",
    "], style={\"width\":\"60%\", \"padding-left\":\"33%\"})"
   ],
   "metadata": {
    "collapsed": false,
    "pycharm": {
     "name": "#%%\n"
    }
   }
  },
  {
   "cell_type": "code",
   "execution_count": 13,
   "outputs": [],
   "source": [
    "# Creat Cards of about us\n",
    "hasan = [\n",
    "    dbc.CardImg(src=\"static/images/alhasan.jpg\", top=True),\n",
    "    dbc.CardBody(\n",
    "        [\n",
    "            html.H4(\"Alhasan Gamal\", className=\"card-title\"),\n",
    "            html.P(\n",
    "                children=[\n",
    "                    html.Span(\"LinkedIn: \"),\n",
    "                    html.A(\"Alhasan Gamal\", href='https://www.linkedin.com/in/alhasan-gamal-480473173/')\n",
    "                ],\n",
    "                className=\"card-text\"\n",
    "            )\n",
    "        ]\n",
    "    )\n",
    "]\n",
    "\n",
    "omar = [\n",
    "    dbc.CardImg(src=\"static/images/omar.jpg\", top=True),\n",
    "    dbc.CardBody(\n",
    "        [\n",
    "            html.H4(\"Omar Atef\", className=\"card-title\"),\n",
    "            html.P(\n",
    "                children=[\n",
    "                    html.Span(\"LinkedIn: \"),\n",
    "                    html.A(\"Omar Gedawy\", href='https://www.linkedin.com/in/omar-gedawy/')\n",
    "                ],\n",
    "                className=\"card-text\"\n",
    "            )\n",
    "        ]\n",
    "    )\n",
    "]"
   ],
   "metadata": {
    "collapsed": false,
    "pycharm": {
     "name": "#%%\n"
    }
   }
  },
  {
   "cell_type": "code",
   "execution_count": 14,
   "outputs": [
    {
     "name": "stderr",
     "output_type": "stream",
     "text": [
      "C:\\Users\\Alhasan Gamal\\anaconda3\\lib\\site-packages\\plotly\\express\\_core.py:1637: FutureWarning:\n",
      "\n",
      "The frame.append method is deprecated and will be removed from pandas in a future version. Use pandas.concat instead.\n",
      "\n",
      "C:\\Users\\Alhasan Gamal\\anaconda3\\lib\\site-packages\\plotly\\express\\_core.py:1637: FutureWarning:\n",
      "\n",
      "The frame.append method is deprecated and will be removed from pandas in a future version. Use pandas.concat instead.\n",
      "\n"
     ]
    }
   ],
   "source": [
    "# Creat Layout of app\n",
    "app.layout = html.Div([\n",
    "    # Creat Simple NavbarSimple\n",
    "    dbc.NavbarSimple(\n",
    "        children=[\n",
    "            dbc.NavLink(\n",
    "                [html.I(className=\"fas fa-home me-2\"),html.Span(\"Home\")],\n",
    "                href=\"/\",\n",
    "                active=\"exact\"\n",
    "            ),\n",
    "            dbc.NavLink(html.A(\"About Us\",href=\"#aboutus\"))\n",
    "        ],\n",
    "        brand=\"Forbes World's Billionaires List 2022 Dashboard\",\n",
    "        color=\"light\",\n",
    "        dark= False\n",
    "    ),\n",
    "    dbc.Container(id=\"page-content\", className=\"pt-4\"),\n",
    "    # Show Top 3 Billionaires in the world in cards\n",
    "    html.H1(\"The Top 3 Billionaires in the world\", style={\"text-align\":\"center\",\"margin-bottom\":\"2%\"}),\n",
    "    dbc.Row([\n",
    "        dbc.Col(dbc.Card(card1, color=\"warning\", inverse=True, style={\"width\":\"18rem\"}),style={\"text-align\":\"center\",\"margin-left\":\"10%\"}),\n",
    "        dbc.Col(dbc.Card(card2, color=\"primary\", inverse=True, style={\"width\":\"18rem\"}),style={\"text-align\":\"center\"}),\n",
    "        dbc.Col(dbc.Card(card3, color=\"primary\", inverse=True, style={\"width\":\"18rem\"}),style={\"text-align\":\"center\",\"margin-right\":\"10%\"})\n",
    "    ]),\n",
    "    # Show The Number of Billionaire Born in Each Year\n",
    "    dbc.Row([\n",
    "       dbc.Col(html.Div(\n",
    "           dcc.Graph(figure=px.bar(birthyrs, title=\"The Number of Billionaires Born in Each Year\", labels={'index':'Year','value':'Number'}, color_discrete_sequence= ['#78c2ad']*3, template='simple_white'))\n",
    "       ))\n",
    "    ]),\n",
    "    # Show The Number of Billionaire Born in Each Year\n",
    "    dbc.Row([\n",
    "        dbc.Col(html.Div(\n",
    "            dcc.Graph(id=\"myGraph\")\n",
    "        ), style={\"padding\":\"2%\"})\n",
    "    ]),\n",
    "\n",
    "    dropdown,\n",
    "\n",
    "    dbc.Row([\n",
    "        dbc.Col(html.Div(\n",
    "            dcc.Graph(id=\"myGraph1\")\n",
    "        ), style={\"padding\":\"2%\"})\n",
    "    ]),\n",
    "    dropdown2,\n",
    "    #Total Number of Billionaires and Final Worth  of each Category\n",
    "    dbc.Row([\n",
    "        dbc.Col(html.Div(\n",
    "            dcc.Graph(figure= px.treemap(df_cat, path=['category'], values='finalWorth',\n",
    "                  color='category', hover_data=['finalWorth','N_Billionaires'], title='Total Final Worth of each Category', template='simple_white'))\n",
    "        ), style={\"padding\":\"2%\"}),\n",
    "        dbc.Col(html.Div(\n",
    "            dcc.Graph(figure=px.treemap(df_cat, path=['category'], values='N_Billionaires',\n",
    "                  color='category', hover_data=['finalWorth','N_Billionaires'], title='Total Number of Billionaires of each Category', template='simple_white'))\n",
    "        ), style={\"padding\":\"2%\"})\n",
    "    ]),\n",
    "    # Show The percentage of Self Made vs. Non-Self Made Billionaires\n",
    "    dbc.Row([\n",
    "        dbc.Col(html.Div(\n",
    "            dcc.Graph(id=\"myGraph2\")\n",
    "        ), style={\"padding\":\"2%\"})\n",
    "    ]),\n",
    "    dropdown3,\n",
    "\n",
    "    html.H1(\"About Us\", id=\"aboutus\",style={\"text-align\":\"center\", \"color\":\"#78c2ad\",\"padding\":\"2%\"}),\n",
    "    dbc.Row([\n",
    "        dbc.Col(dbc.Card(hasan,color=\"warning\",inverse=True,style={\"width\":\"18rem\"}),style={\"text-align\":\"center\",\"margin-left\":\"10%\"}),\n",
    "        dbc.Col(dbc.Card(omar,color=\"warning\",inverse=True,style={\"width\":\"18rem\"}),style={\"text-align\":\"center\",\"margin-left\":\"25%\",\"margin-right\":\"10%\"})\n",
    "    ]),\n",
    "    html.P(\"© 2022 Data Visualization DashBoard. all rights deserved | design by Alhasan & Omar \",style={\"text-align\":\"center\",\"padding\":\"2%\"})\n",
    "\n",
    "])"
   ],
   "metadata": {
    "collapsed": false,
    "pycharm": {
     "name": "#%%\n"
    }
   }
  },
  {
   "cell_type": "code",
   "execution_count": 15,
   "outputs": [],
   "source": [
    "# Callback of Show The Number of Billionaire Born in Each Year\n",
    "@app.callback(\n",
    "    Output(\"myGraph\", \"figure\"),\n",
    "    Input(\"dropMenu\", \"value\")\n",
    ")\n",
    "def update_graph(dropdownValue):\n",
    "    if dropdownValue == \"Map\":\n",
    "       fig = px.scatter_geo(iso_df, locations='iso_alpha', projection='orthographic', size='individuals', hover_name='country', color='country', size_max=60, title='The Number of Billionaires in each Country',template='simple_white')\n",
    "    elif dropdownValue == \"BarChart\":\n",
    "        fig = px.bar(iso_df, x='country', y='individuals', labels={'y':'Number'},title=\"The Number of Billionaire Born in Each Year\",  color_discrete_sequence= ['#78c2ad']*3, template='simple_white')\n",
    "        fig.update_layout(barmode='stack', xaxis={'categoryorder':'total descending'})\n",
    "    else:\n",
    "        fig = px.scatter(iso_df, x='country', y='individuals', size='individuals', size_max=60, hover_name='country', color='country', title='The Number of Billionaires in each Country', template='plotly_white')\n",
    "        fig.update_layout(barmode='stack', xaxis={'categoryorder':'total descending'})\n",
    "    return fig"
   ],
   "metadata": {
    "collapsed": false,
    "pycharm": {
     "name": "#%%\n"
    }
   }
  },
  {
   "cell_type": "code",
   "execution_count": 16,
   "outputs": [],
   "source": [
    "# Callback of show histogram of age for each country\n",
    "@app.callback(\n",
    "    Output(\"myGraph1\", \"figure\"),\n",
    "    Input(\"dropMenu2\", \"value\")\n",
    ")\n",
    "def update_graph2(dropdownValue):\n",
    "    if dropdownValue == \"\" or dropdownValue is None:\n",
    "       fig = px.histogram(df, x='age', template='simple_white', color_discrete_sequence= ['#78c2ad']*3, title=\"The Histogram of Age for each Country\")\n",
    "    else:\n",
    "       fig = px.histogram(df[df['country'] == dropdownValue], x='age', template='simple_white', color_discrete_sequence= ['#78c2ad']*3, title=\"The Histogram of Age for \"+dropdownValue)\n",
    "    return fig"
   ],
   "metadata": {
    "collapsed": false,
    "pycharm": {
     "name": "#%%\n"
    }
   }
  },
  {
   "cell_type": "code",
   "execution_count": 17,
   "outputs": [],
   "source": [
    "# Callback of The percentage of Self Made vs. Non-Self Made Billionaires\n",
    "@app.callback(\n",
    "    Output(\"myGraph2\", \"figure\"),\n",
    "    Input(\"dropMenu3\", \"value\")\n",
    ")\n",
    "def update_pie(dropdownVal):\n",
    "    if dropdownVal is None or len(dropdownVal) == 0:\n",
    "        df_self = pd.DataFrame(df2.groupby(\"selfMade\",as_index=False)[\"personName\"].count())\n",
    "        df_self.rename(columns={\"personName\":\"num\"},inplace=True)\n",
    "        fig = px.pie(df_self, values=\"num\", names=\"selfMade\",color=\"selfMade\",color_discrete_sequence=[\"#989898\",\"#78c2ad\"] ,hole=0.3, title=\"The percentage of Self Made vs. Non-Self Made Billionaires\",template='simple_white')\n",
    "    elif dropdownVal[0] == \"Female\" and len(dropdownVal) ==1 :\n",
    "        df_tmp = df[df.gender.isin(dropdownVal)]\n",
    "        df_self = pd.DataFrame(df_tmp.groupby('selfMade', as_index=False)['personName'].count())\n",
    "        df_self.rename(columns={'personName':'num'}, inplace=True)\n",
    "        fig = px.pie(df_self, values='num', names='selfMade',color=\"selfMade\",color_discrete_sequence=[\"#78c2ad\",\"#989898\"], hole=.3, title='The percentage of Self Made vs. Non-Self Made Billionaires',template='simple_white')\n",
    "\n",
    "\n",
    "    else:\n",
    "        df_tmp = df[df.gender.isin(dropdownVal)]\n",
    "        df_self = pd.DataFrame(df_tmp.groupby('selfMade', as_index=False)['personName'].count())\n",
    "        df_self.rename(columns={'personName':'num'}, inplace=True)\n",
    "        fig = px.pie(df_self, values='num', names='selfMade',color=\"selfMade\",color_discrete_sequence=[\"#989898\",\"#78c2ad\"], hole=.3, title='The percentage of Self Made vs. Non-Self Made Billionaires',template='simple_white')\n",
    "    return fig"
   ],
   "metadata": {
    "collapsed": false,
    "pycharm": {
     "name": "#%%\n"
    }
   }
  },
  {
   "cell_type": "code",
   "execution_count": null,
   "outputs": [
    {
     "name": "stdout",
     "output_type": "stream",
     "text": [
      "Dash is running on http://127.0.0.1:8050/\n",
      "\n",
      " * Serving Flask app \"__main__\" (lazy loading)\n",
      " * Environment: production\n",
      "\u001B[31m   WARNING: This is a development server. Do not use it in a production deployment.\u001B[0m\n",
      "\u001B[2m   Use a production WSGI server instead.\u001B[0m\n",
      " * Debug mode: off\n"
     ]
    },
    {
     "name": "stderr",
     "output_type": "stream",
     "text": [
      " * Running on http://127.0.0.1:8050/ (Press CTRL+C to quit)\n",
      "127.0.0.1 - - [02/May/2022 01:45:00] \"GET / HTTP/1.1\" 200 -\n",
      "127.0.0.1 - - [02/May/2022 01:45:02] \"GET /_dash-dependencies HTTP/1.1\" 200 -\n",
      "127.0.0.1 - - [02/May/2022 01:45:02] \"GET /_dash-layout HTTP/1.1\" 200 -\n",
      "127.0.0.1 - - [02/May/2022 01:45:02] \"GET /_dash-component-suites/dash/dcc/async-graph.js HTTP/1.1\" 200 -\n",
      "127.0.0.1 - - [02/May/2022 01:45:02] \"GET /_dash-component-suites/dash/dcc/async-dropdown.js HTTP/1.1\" 200 -\n",
      "127.0.0.1 - - [02/May/2022 01:45:02] \"GET /_dash-component-suites/dash/dcc/async-plotlyjs.js HTTP/1.1\" 200 -\n",
      "127.0.0.1 - - [02/May/2022 01:45:02] \"GET /static/images/bernard.jpg HTTP/1.1\" 304 -\n",
      "127.0.0.1 - - [02/May/2022 01:45:02] \"GET /static/images/jeff.jpg HTTP/1.1\" 304 -\n",
      "127.0.0.1 - - [02/May/2022 01:45:02] \"GET /static/images/elon.jpg HTTP/1.1\" 304 -\n",
      "127.0.0.1 - - [02/May/2022 01:45:02] \"GET /static/images/alhasan.jpg HTTP/1.1\" 304 -\n",
      "127.0.0.1 - - [02/May/2022 01:45:02] \"GET /static/images/omar.jpg HTTP/1.1\" 304 -\n",
      "127.0.0.1 - - [02/May/2022 01:45:03] \"POST /_dash-update-component HTTP/1.1\" 200 -\n",
      "127.0.0.1 - - [02/May/2022 01:45:03] \"POST /_dash-update-component HTTP/1.1\" 200 -\n",
      "127.0.0.1 - - [02/May/2022 01:45:04] \"POST /_dash-update-component HTTP/1.1\" 200 -\n",
      "127.0.0.1 - - [02/May/2022 01:51:16] \"GET / HTTP/1.1\" 200 -\n",
      "127.0.0.1 - - [02/May/2022 01:51:17] \"GET /_dash-layout HTTP/1.1\" 200 -\n",
      "127.0.0.1 - - [02/May/2022 01:51:17] \"GET /_dash-dependencies HTTP/1.1\" 200 -\n",
      "127.0.0.1 - - [02/May/2022 01:51:18] \"GET /_dash-component-suites/dash/dcc/async-graph.js HTTP/1.1\" 200 -\n",
      "127.0.0.1 - - [02/May/2022 01:51:18] \"GET /_dash-component-suites/dash/dcc/async-plotlyjs.js HTTP/1.1\" 200 -\n",
      "127.0.0.1 - - [02/May/2022 01:51:18] \"GET /_dash-component-suites/dash/dcc/async-dropdown.js HTTP/1.1\" 200 -\n",
      "127.0.0.1 - - [02/May/2022 01:51:19] \"POST /_dash-update-component HTTP/1.1\" 200 -\n",
      "127.0.0.1 - - [02/May/2022 01:51:19] \"POST /_dash-update-component HTTP/1.1\" 200 -\n",
      "127.0.0.1 - - [02/May/2022 01:51:19] \"POST /_dash-update-component HTTP/1.1\" 200 -\n",
      "127.0.0.1 - - [02/May/2022 01:51:34] \"POST /_dash-update-component HTTP/1.1\" 200 -\n",
      "127.0.0.1 - - [02/May/2022 01:51:39] \"POST /_dash-update-component HTTP/1.1\" 200 -\n",
      "127.0.0.1 - - [02/May/2022 01:51:51] \"POST /_dash-update-component HTTP/1.1\" 200 -\n",
      "127.0.0.1 - - [02/May/2022 01:51:58] \"POST /_dash-update-component HTTP/1.1\" 200 -\n",
      "127.0.0.1 - - [02/May/2022 01:52:02] \"POST /_dash-update-component HTTP/1.1\" 200 -\n",
      "127.0.0.1 - - [02/May/2022 01:52:15] \"POST /_dash-update-component HTTP/1.1\" 200 -\n",
      "127.0.0.1 - - [02/May/2022 01:52:18] \"POST /_dash-update-component HTTP/1.1\" 200 -\n",
      "127.0.0.1 - - [02/May/2022 01:52:19] \"POST /_dash-update-component HTTP/1.1\" 200 -\n",
      "127.0.0.1 - - [02/May/2022 01:52:22] \"POST /_dash-update-component HTTP/1.1\" 200 -\n",
      "127.0.0.1 - - [02/May/2022 01:55:34] \"GET / HTTP/1.1\" 200 -\n",
      "127.0.0.1 - - [02/May/2022 01:55:36] \"GET /_dash-layout HTTP/1.1\" 200 -\n",
      "127.0.0.1 - - [02/May/2022 01:55:36] \"GET /_dash-dependencies HTTP/1.1\" 200 -\n",
      "127.0.0.1 - - [02/May/2022 01:55:36] \"GET /_dash-component-suites/dash/dcc/async-graph.js HTTP/1.1\" 200 -\n",
      "127.0.0.1 - - [02/May/2022 01:55:36] \"GET /_dash-component-suites/dash/dcc/async-plotlyjs.js HTTP/1.1\" 200 -\n",
      "127.0.0.1 - - [02/May/2022 01:55:36] \"GET /_dash-component-suites/dash/dcc/async-dropdown.js HTTP/1.1\" 200 -\n",
      "127.0.0.1 - - [02/May/2022 01:55:37] \"POST /_dash-update-component HTTP/1.1\" 200 -\n",
      "127.0.0.1 - - [02/May/2022 01:55:37] \"POST /_dash-update-component HTTP/1.1\" 200 -\n",
      "127.0.0.1 - - [02/May/2022 01:55:37] \"POST /_dash-update-component HTTP/1.1\" 200 -\n",
      "127.0.0.1 - - [02/May/2022 01:55:54] \"POST /_dash-update-component HTTP/1.1\" 200 -\n",
      "127.0.0.1 - - [02/May/2022 01:56:01] \"POST /_dash-update-component HTTP/1.1\" 200 -\n",
      "127.0.0.1 - - [02/May/2022 01:56:10] \"POST /_dash-update-component HTTP/1.1\" 200 -\n",
      "127.0.0.1 - - [02/May/2022 01:56:17] \"POST /_dash-update-component HTTP/1.1\" 200 -\n",
      "127.0.0.1 - - [02/May/2022 01:56:21] \"POST /_dash-update-component HTTP/1.1\" 200 -\n",
      "127.0.0.1 - - [02/May/2022 01:56:32] \"POST /_dash-update-component HTTP/1.1\" 200 -\n",
      "127.0.0.1 - - [02/May/2022 01:56:34] \"POST /_dash-update-component HTTP/1.1\" 200 -\n",
      "127.0.0.1 - - [02/May/2022 01:56:36] \"POST /_dash-update-component HTTP/1.1\" 200 -\n",
      "127.0.0.1 - - [02/May/2022 01:56:38] \"POST /_dash-update-component HTTP/1.1\" 200 -\n"
     ]
    }
   ],
   "source": [
    "# Run app Server\n",
    "app.run_server()"
   ],
   "metadata": {
    "collapsed": false,
    "pycharm": {
     "name": "#%%\n",
     "is_executing": true
    }
   }
  }
 ],
 "metadata": {
  "kernelspec": {
   "display_name": "Python 3",
   "language": "python",
   "name": "python3"
  },
  "language_info": {
   "codemirror_mode": {
    "name": "ipython",
    "version": 2
   },
   "file_extension": ".py",
   "mimetype": "text/x-python",
   "name": "python",
   "nbconvert_exporter": "python",
   "pygments_lexer": "ipython2",
   "version": "2.7.6"
  }
 },
 "nbformat": 4,
 "nbformat_minor": 0
}